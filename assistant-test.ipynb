{
 "cells": [
  {
   "cell_type": "code",
   "execution_count": 199,
   "metadata": {},
   "outputs": [],
   "source": [
    "import os\n",
    "import requests\n",
    "import json\n",
    "from openai import OpenAI\n",
    "import datetime\n",
    "OPENAI_API_KEY = os.getenv(\"OPENAI_API_KEY\")"
   ]
  },
  {
   "cell_type": "code",
   "execution_count": 82,
   "metadata": {},
   "outputs": [],
   "source": [
    "def trackEvent(email, scope, groupBy=None, analysis=True):\n",
    "    url = \"http://localhost:3000/track\"\n",
    "    headers = {'Content-Type': 'application/json'}\n",
    "\n",
    "    data = {\n",
    "        \"orgId\": \"1\",\n",
    "        \"email\": email,\n",
    "        \"scope\": scope,\n",
    "        \"groupBy\": groupBy if groupBy is not None else 'event',\n",
    "        \"analysis\": analysis if analysis is not None else True\n",
    "    }\n",
    "\n",
    "    response = requests.get(url, headers=headers, data=json.dumps(data))\n",
    "    return response.json()"
   ]
  },
  {
   "cell_type": "code",
   "execution_count": 104,
   "metadata": {},
   "outputs": [],
   "source": [
    "def createEvent(email, startTime, endTime, timezone=\"America/New_York\", summary=None, description=None, location=None):\n",
    "    url = \"http://localhost:3000/manage\"\n",
    "    headers = {'Content-Type': 'application/json'}\n",
    "\n",
    "    data = {\n",
    "        \"orgId\": \"1\",\n",
    "        \"email\": email,\n",
    "        \"type\": \"insert\",\n",
    "        \"startTime\": startTime,\n",
    "        \"endTime\": endTime,\n",
    "        \"timezone\": timezone,\n",
    "        \"summary\": summary,\n",
    "        \"description\": description,\n",
    "        \"location\": location\n",
    "    }\n",
    "\n",
    "    # Remove keys with None values\n",
    "    data = {k: v for k, v in data.items() if v is not None}\n",
    "\n",
    "    response = requests.post(url, headers=headers, data=json.dumps(data))\n",
    "    return response.json()\n",
    "\n",
    "# # Example usage\n",
    "# response_data = createEvent(\n",
    "#     email=\"example@example.com\",\n",
    "#     type=\"insert\",\n",
    "#     startTime=\"2023-01-01T09:00:00\",\n",
    "#     endTime=\"2023-01-01T10:00:00\",\n",
    "#     summary=\"Meeting\",\n",
    "#     description=\"Discussion about project\",\n",
    "#     location=\"Office\"\n",
    "# )\n",
    "# print(response_data)\n"
   ]
  },
  {
   "cell_type": "code",
   "execution_count": 7,
   "metadata": {},
   "outputs": [],
   "source": [
    "def updateEvent(email, startTime, endTime, eventId, timezone=\"America/New_York\", summary=None, description=None, location=None):\n",
    "    url = \"http://localhost:3000/manage\"\n",
    "    headers = {'Content-Type': 'application/json'}\n",
    "\n",
    "    data = {\n",
    "        \"orgId\": \"1\",\n",
    "        \"email\": email,\n",
    "        \"type\": \"update\",\n",
    "        \"eventId\": eventId,\n",
    "        \"startTime\": startTime,\n",
    "        \"endTime\": endTime,\n",
    "        \"timezone\": timezone,\n",
    "        \"summary\": summary,\n",
    "        \"description\": description,\n",
    "        \"location\": location\n",
    "    }\n",
    "\n",
    "    # Remove keys with None values\n",
    "    # data = {k: v for k, v in data.items() if v is not None}\n",
    "\n",
    "    response = requests.post(url, headers=headers, data=json.dumps(data))\n",
    "    return response.json()"
   ]
  },
  {
   "cell_type": "code",
   "execution_count": 85,
   "metadata": {},
   "outputs": [],
   "source": [
    "def show_json(obj):\n",
    "    display(json.loads(obj.model_dump_json()))"
   ]
  },
  {
   "cell_type": "code",
   "execution_count": 118,
   "metadata": {},
   "outputs": [
    {
     "data": {
      "text/plain": [
       "{'id': 'thread_7MGhELp9KrqNsDvFQxzeuj49',\n",
       " 'created_at': 1701304522,\n",
       " 'metadata': {},\n",
       " 'object': 'thread'}"
      ]
     },
     "metadata": {},
     "output_type": "display_data"
    }
   ],
   "source": [
    "client = OpenAI(api_key=OPENAI_API_KEY)\n",
    "thread = client.beta.threads.create()\n",
    "show_json(thread)"
   ]
  },
  {
   "cell_type": "code",
   "execution_count": 87,
   "metadata": {},
   "outputs": [],
   "source": [
    "def get_response(thread):\n",
    "    return client.beta.threads.messages.list(thread_id=thread.id, order=\"asc\")"
   ]
  },
  {
   "cell_type": "code",
   "execution_count": 124,
   "metadata": {},
   "outputs": [],
   "source": [
    "message = client.beta.threads.messages.create(\n",
    "    thread_id=thread.id,\n",
    "    role=\"user\",\n",
    "    content=\"my email is sw3709@columbia.edu\"\n",
    ")"
   ]
  },
  {
   "cell_type": "code",
   "execution_count": 123,
   "metadata": {},
   "outputs": [],
   "source": [
    "datetime = datetime.datetime.now().strftime(\"%m/%d/%Y, %H:%M:%S\")\n",
    "message = client.beta.threads.messages.create(\n",
    "    thread_id=thread.id,\n",
    "    role=\"user\",\n",
    "    content= f\"Current date and time is {datetime}\"\n",
    ")"
   ]
  },
  {
   "cell_type": "code",
   "execution_count": 176,
   "metadata": {},
   "outputs": [],
   "source": [
    "message = client.beta.threads.messages.create(\n",
    "    thread_id=thread.id,\n",
    "    role=\"user\",\n",
    "    content=\"help me get the id of my event for tomorrow 9pm and delete that event for me\"\n",
    ")"
   ]
  },
  {
   "cell_type": "code",
   "execution_count": 177,
   "metadata": {},
   "outputs": [],
   "source": [
    "run = client.beta.threads.runs.create(\n",
    "  thread_id=thread.id,\n",
    "  assistant_id=\"asst_2x9WVVd9cMQObO4gFsMhIrbC\",\n",
    "  instructions=\"Use the approprite function tool to achieve user's specific request.\"\n",
    ")"
   ]
  },
  {
   "cell_type": "code",
   "execution_count": 178,
   "metadata": {},
   "outputs": [],
   "source": [
    "import time\n",
    "\n",
    "def wait_on_run(run, thread):\n",
    "    while run.status == \"queued\" or run.status == \"in_progress\":\n",
    "        run = client.beta.threads.runs.retrieve(\n",
    "            thread_id=thread.id,\n",
    "            run_id=run.id,\n",
    "        )\n",
    "        time.sleep(2)\n",
    "    return run"
   ]
  },
  {
   "cell_type": "code",
   "execution_count": 179,
   "metadata": {},
   "outputs": [
    {
     "data": {
      "text/plain": [
       "'requires_action'"
      ]
     },
     "execution_count": 179,
     "metadata": {},
     "output_type": "execute_result"
    }
   ],
   "source": [
    "run = wait_on_run(run, thread)\n",
    "run.status\n",
    "# show_json(run)"
   ]
  },
  {
   "cell_type": "code",
   "execution_count": 180,
   "metadata": {},
   "outputs": [],
   "source": [
    "def pretty_print(messages):\n",
    "    print(\"# Messages\")\n",
    "    for m in messages:\n",
    "        print(f\"{m.role}: {m.content[0].text.value}\")\n",
    "    print()"
   ]
  },
  {
   "cell_type": "code",
   "execution_count": 181,
   "metadata": {},
   "outputs": [
    {
     "name": "stdout",
     "output_type": "stream",
     "text": [
      "# Messages\n",
      "user: my email is sw3709@columbia.edu\n",
      "user: Current date and time is 11/29/2023, 19:39:56\n",
      "user: my email is sw3709@columbia.edu\n",
      "user: Create a new event for 8pm tomorrow with the title 'Meeting' and description 'Discuss project'\n",
      "assistant: A new event titled 'Meeting' with the description 'Discuss project' has been successfully created for 8pm tomorrow. You can view or edit the event using the following [link](https://www.google.com/calendar/event?eid=bTZpZnBsZWY2ODJ2ZTRqcmg0aHNyb3Nucjggc3czNzA5QGNvbHVtYmlhLmVkdQ).\n",
      "user: Create am event for 9pm tomorrow with the title 'Meeting' and description 'Discuss project'\n",
      "assistant: Another new event titled 'Meeting' with the description 'Discuss project' has been successfully created for 9pm tomorrow. You can view or edit the event using the following [link](https://www.google.com/calendar/event?eid=ODE4bmF2ZzhodWgyNXBjdDZsOWRrcjFvZDggc3czNzA5QGNvbHVtYmlhLmVkdQ).\n",
      "user: help me get the id of my event for tomorrow 9pm and delete that event for me\n",
      "assistant: The ID of your event for tomorrow at 9pm is `818navg8huh25pct6l9dkr1od8`. I will now proceed to delete this event for you.\n",
      "\n"
     ]
    }
   ],
   "source": [
    "pretty_print(get_response(thread))"
   ]
  },
  {
   "cell_type": "code",
   "execution_count": 182,
   "metadata": {},
   "outputs": [
    {
     "name": "stdout",
     "output_type": "stream",
     "text": [
      "Function Name: deleteEvent\n",
      "Function Arguments:\n"
     ]
    },
    {
     "data": {
      "text/plain": [
       "{'email': 'sw3709@columbia.edu', 'eventId': '818navg8huh25pct6l9dkr1od8'}"
      ]
     },
     "execution_count": 182,
     "metadata": {},
     "output_type": "execute_result"
    }
   ],
   "source": [
    "# Extract single tool call\n",
    "tool_call = run.required_action.submit_tool_outputs.tool_calls[0]\n",
    "name = tool_call.function.name\n",
    "arguments = json.loads(tool_call.function.arguments)\n",
    "\n",
    "print(\"Function Name:\", name)\n",
    "print(\"Function Arguments:\")\n",
    "arguments"
   ]
  },
  {
   "cell_type": "code",
   "execution_count": 185,
   "metadata": {},
   "outputs": [
    {
     "name": "stdout",
     "output_type": "stream",
     "text": [
      "Responses: {'type': 'delete', 'eventDetails': {'kind': 'calendar#event', 'etag': '\"3402614304210000\"', 'id': '818navg8huh25pct6l9dkr1od8', 'status': 'confirmed', 'htmlLink': 'https://www.google.com/calendar/event?eid=ODE4bmF2ZzhodWgyNXBjdDZsOWRrcjFvZDggc3czNzA5QGNvbHVtYmlhLmVkdQ', 'created': '2023-11-30T01:19:12.000Z', 'updated': '2023-11-30T01:19:12.105Z', 'summary': 'Meeting', 'description': 'Discuss project', 'creator': {'email': 'sw3709@columbia.edu', 'self': True}, 'organizer': {'email': 'sw3709@columbia.edu', 'self': True}, 'start': {'dateTime': '2023-11-30T21:00:00-05:00', 'timeZone': 'America/New_York'}, 'end': {'dateTime': '2023-11-30T22:00:00-05:00', 'timeZone': 'America/New_York'}, 'iCalUID': '818navg8huh25pct6l9dkr1od8@google.com', 'sequence': 0, 'reminders': {'useDefault': True}, 'eventType': 'default'}}\n"
     ]
    }
   ],
   "source": [
    "responses = globals()[name](**arguments)\n",
    "print(\"Responses:\", responses)\n",
    "# form json object from arguments\n",
    "# json.dumps(arguments)\n"
   ]
  },
  {
   "cell_type": "code",
   "execution_count": 186,
   "metadata": {},
   "outputs": [
    {
     "data": {
      "text/plain": [
       "{'id': 'run_v7aDRgDTqmAII7itLktEgTRw',\n",
       " 'assistant_id': 'asst_2x9WVVd9cMQObO4gFsMhIrbC',\n",
       " 'cancelled_at': None,\n",
       " 'completed_at': None,\n",
       " 'created_at': 1701308646,\n",
       " 'expires_at': 1701309246,\n",
       " 'failed_at': None,\n",
       " 'file_ids': [],\n",
       " 'instructions': \"Use the approprite function tool to achieve user's specific request.\",\n",
       " 'last_error': None,\n",
       " 'metadata': {},\n",
       " 'model': 'gpt-4-1106-preview',\n",
       " 'object': 'thread.run',\n",
       " 'required_action': None,\n",
       " 'started_at': 1701308646,\n",
       " 'status': 'queued',\n",
       " 'thread_id': 'thread_7MGhELp9KrqNsDvFQxzeuj49',\n",
       " 'tools': [{'function': {'name': 'trackEvent',\n",
       "    'parameters': {'type': 'object',\n",
       "     'properties': {'email': {'type': 'string',\n",
       "       'description': 'The email address associated with the event.'},\n",
       "      'scope': {'type': 'integer',\n",
       "       'description': 'An integer representing the scope of the event, between 0 and 30.'},\n",
       "      'groupBy': {'type': 'string',\n",
       "       'enum': ['event', 'eventType', 'color'],\n",
       "       'description': 'A string to specify how the tracking data should be grouped.'},\n",
       "      'analysis': {'type': 'boolean',\n",
       "       'description': 'A boolean flag to indicate whether analysis is required for the tracking event.'}},\n",
       "     'required': ['email', 'scope', 'analysis']},\n",
       "    'description': \"Sends a tracking event to a specified endpoint and returns the server's response. The function makes a GET request to the specified URL with the provided data.\"},\n",
       "   'type': 'function'},\n",
       "  {'function': {'name': 'createEvent',\n",
       "    'parameters': {'type': 'object',\n",
       "     'properties': {'email': {'type': 'string',\n",
       "       'description': 'Email address associated with the event creation.'},\n",
       "      'startTime': {'type': 'string',\n",
       "       'description': 'Start time of the event in ISO 8601 format.'},\n",
       "      'endTime': {'type': 'string',\n",
       "       'description': 'End time of the event in ISO 8601 format.'},\n",
       "      'timezone': {'type': 'string',\n",
       "       'default': 'America/New_York',\n",
       "       'description': \"Timezone of the event. Default is 'America/New_York'.\"},\n",
       "      'summary': {'type': 'string',\n",
       "       'description': 'A brief summary or title of the event.'},\n",
       "      'description': {'type': 'string',\n",
       "       'description': 'Detailed description of the event.'},\n",
       "      'location': {'type': 'string',\n",
       "       'description': 'Physical location or address of the event.'}},\n",
       "     'required': ['email', 'startTime', 'endTime']},\n",
       "    'description': 'Creates an event by sending a POST request with event details to a specified endpoint.'},\n",
       "   'type': 'function'},\n",
       "  {'function': {'name': 'updateEvent',\n",
       "    'parameters': {'type': 'object',\n",
       "     'properties': {'email': {'type': 'string',\n",
       "       'description': 'Email address associated with the event creation.'},\n",
       "      'startTime': {'type': 'string',\n",
       "       'description': 'Start time of the event in ISO 8601 format.'},\n",
       "      'endTime': {'type': 'string',\n",
       "       'description': 'End time of the event in ISO 8601 format.'},\n",
       "      'eventId': {'type': 'string',\n",
       "       'description': 'ID of the event to be updated.'},\n",
       "      'timezone': {'type': 'string',\n",
       "       'default': 'America/New_York',\n",
       "       'description': \"Timezone of the event. Default is 'America/New_York'.\"},\n",
       "      'summary': {'type': 'string',\n",
       "       'description': 'A brief summary or title of the event.'},\n",
       "      'description': {'type': 'string',\n",
       "       'description': 'Detailed description of the event.'},\n",
       "      'location': {'type': 'string',\n",
       "       'description': 'Physical location or address of the event.'}},\n",
       "     'required': ['email', 'eventId']},\n",
       "    'description': 'Updates an event by sending a POST request with event details to a specified endpoint.'},\n",
       "   'type': 'function'},\n",
       "  {'function': {'name': 'deleteEvent',\n",
       "    'parameters': {'type': 'object',\n",
       "     'properties': {'email': {'type': 'string',\n",
       "       'description': 'Email address associated with the event creation.'},\n",
       "      'type': {'type': 'string',\n",
       "       'description': \"Type of the event action, This value is always 'update' for this function.\"},\n",
       "      'eventId': {'type': 'string',\n",
       "       'description': 'ID of the event to be updated.'}},\n",
       "     'required': ['email', 'eventId']},\n",
       "    'description': 'Deletes an event by sending a POST request with event details to a specified endpoint.'},\n",
       "   'type': 'function'}]}"
      ]
     },
     "metadata": {},
     "output_type": "display_data"
    }
   ],
   "source": [
    "run = client.beta.threads.runs.submit_tool_outputs(\n",
    "    thread_id=thread.id,\n",
    "    run_id=run.id,\n",
    "    tool_outputs=[\n",
    "        {\n",
    "            \"tool_call_id\": tool_call.id,\n",
    "            \"output\": json.dumps(responses),\n",
    "        }\n",
    "    ],\n",
    ")\n",
    "show_json(run)"
   ]
  },
  {
   "cell_type": "code",
   "execution_count": 191,
   "metadata": {},
   "outputs": [
    {
     "data": {
      "text/plain": [
       "'completed'"
      ]
     },
     "execution_count": 191,
     "metadata": {},
     "output_type": "execute_result"
    }
   ],
   "source": [
    "run = wait_on_run(run, thread)\n",
    "run.status"
   ]
  },
  {
   "cell_type": "code",
   "execution_count": 188,
   "metadata": {},
   "outputs": [
    {
     "data": {
      "text/plain": [
       "SyncCursorPage[ThreadMessage](data=[ThreadMessage(id='msg_JlRcvbJ1yoom2z9Xe04fsN37', assistant_id='asst_2x9WVVd9cMQObO4gFsMhIrbC', content=[MessageContentText(text=Text(annotations=[], value='The event scheduled for tomorrow at 9pm has been successfully deleted. You no longer have this event in your calendar.'), type='text')], created_at=1701308726, file_ids=[], metadata={}, object='thread.message', role='assistant', run_id='run_v7aDRgDTqmAII7itLktEgTRw', thread_id='thread_7MGhELp9KrqNsDvFQxzeuj49'), ThreadMessage(id='msg_hVK1S5ZXkbawKVq35yk3ELBT', assistant_id='asst_2x9WVVd9cMQObO4gFsMhIrbC', content=[MessageContentText(text=Text(annotations=[], value='The ID of your event for tomorrow at 9pm is `818navg8huh25pct6l9dkr1od8`. I will now proceed to delete this event for you.'), type='text')], created_at=1701308647, file_ids=[], metadata={}, object='thread.message', role='assistant', run_id='run_v7aDRgDTqmAII7itLktEgTRw', thread_id='thread_7MGhELp9KrqNsDvFQxzeuj49'), ThreadMessage(id='msg_ZC2ZOvxk6YuOA7mgedOO8bYb', assistant_id=None, content=[MessageContentText(text=Text(annotations=[], value='help me get the id of my event for tomorrow 9pm and delete that event for me'), type='text')], created_at=1701308641, file_ids=[], metadata={}, object='thread.message', role='user', run_id=None, thread_id='thread_7MGhELp9KrqNsDvFQxzeuj49'), ThreadMessage(id='msg_Fncrvxfaz7R9ylFYPS2Hqqz9', assistant_id='asst_2x9WVVd9cMQObO4gFsMhIrbC', content=[MessageContentText(text=Text(annotations=[], value=\"Another new event titled 'Meeting' with the description 'Discuss project' has been successfully created for 9pm tomorrow. You can view or edit the event using the following [link](https://www.google.com/calendar/event?eid=ODE4bmF2ZzhodWgyNXBjdDZsOWRrcjFvZDggc3czNzA5QGNvbHVtYmlhLmVkdQ).\"), type='text')], created_at=1701307159, file_ids=[], metadata={}, object='thread.message', role='assistant', run_id='run_Z5PRnLGg2YsJqVjEJm6OYGJ2', thread_id='thread_7MGhELp9KrqNsDvFQxzeuj49'), ThreadMessage(id='msg_vPDUtWfuCfJ8LfHXqGWrH0nG', assistant_id=None, content=[MessageContentText(text=Text(annotations=[], value=\"Create am event for 9pm tomorrow with the title 'Meeting' and description 'Discuss project'\"), type='text')], created_at=1701307032, file_ids=[], metadata={}, object='thread.message', role='user', run_id=None, thread_id='thread_7MGhELp9KrqNsDvFQxzeuj49'), ThreadMessage(id='msg_oPAvMNkM95KFuWWrrf39p180', assistant_id='asst_2x9WVVd9cMQObO4gFsMhIrbC', content=[MessageContentText(text=Text(annotations=[], value=\"A new event titled 'Meeting' with the description 'Discuss project' has been successfully created for 8pm tomorrow. You can view or edit the event using the following [link](https://www.google.com/calendar/event?eid=bTZpZnBsZWY2ODJ2ZTRqcmg0aHNyb3Nucjggc3czNzA5QGNvbHVtYmlhLmVkdQ).\"), type='text')], created_at=1701305358, file_ids=[], metadata={}, object='thread.message', role='assistant', run_id='run_FmBI31oDxgAjGUcUSJ9V4dMs', thread_id='thread_7MGhELp9KrqNsDvFQxzeuj49'), ThreadMessage(id='msg_aoCWunUg3xfUnXIbfZnQ7P1A', assistant_id=None, content=[MessageContentText(text=Text(annotations=[], value=\"Create a new event for 8pm tomorrow with the title 'Meeting' and description 'Discuss project'\"), type='text')], created_at=1701304808, file_ids=[], metadata={}, object='thread.message', role='user', run_id=None, thread_id='thread_7MGhELp9KrqNsDvFQxzeuj49'), ThreadMessage(id='msg_4r5MFD9cV7QAb4SalJqKjdbt', assistant_id=None, content=[MessageContentText(text=Text(annotations=[], value='my email is sw3709@columbia.edu'), type='text')], created_at=1701304807, file_ids=[], metadata={}, object='thread.message', role='user', run_id=None, thread_id='thread_7MGhELp9KrqNsDvFQxzeuj49'), ThreadMessage(id='msg_zERJkKji5bOYoWUowp1ejfCU', assistant_id=None, content=[MessageContentText(text=Text(annotations=[], value='Current date and time is 11/29/2023, 19:39:56'), type='text')], created_at=1701304796, file_ids=[], metadata={}, object='thread.message', role='user', run_id=None, thread_id='thread_7MGhELp9KrqNsDvFQxzeuj49'), ThreadMessage(id='msg_hi5zhkOOD1kX9vU5aokP8Ozj', assistant_id=None, content=[MessageContentText(text=Text(annotations=[], value='my email is sw3709@columbia.edu'), type='text')], created_at=1701304527, file_ids=[], metadata={}, object='thread.message', role='user', run_id=None, thread_id='thread_7MGhELp9KrqNsDvFQxzeuj49')], object='list', first_id='msg_JlRcvbJ1yoom2z9Xe04fsN37', last_id='msg_hi5zhkOOD1kX9vU5aokP8Ozj', has_more=False)"
      ]
     },
     "execution_count": 188,
     "metadata": {},
     "output_type": "execute_result"
    }
   ],
   "source": [
    "messages = client.beta.threads.messages.list(thread_id=thread.id)\n",
    "messages"
   ]
  },
  {
   "cell_type": "code",
   "execution_count": 197,
   "metadata": {},
   "outputs": [
    {
     "name": "stdout",
     "output_type": "stream",
     "text": [
      "# Messages\n",
      "user: my email is sw3709@columbia.edu\n",
      "user: Current date and time is 11/29/2023, 19:39:56\n",
      "user: my email is sw3709@columbia.edu\n",
      "user: Create a new event for 8pm tomorrow with the title 'Meeting' and description 'Discuss project'\n",
      "assistant: A new event titled 'Meeting' with the description 'Discuss project' has been successfully created for 8pm tomorrow. You can view or edit the event using the following [link](https://www.google.com/calendar/event?eid=bTZpZnBsZWY2ODJ2ZTRqcmg0aHNyb3Nucjggc3czNzA5QGNvbHVtYmlhLmVkdQ).\n",
      "user: Create am event for 9pm tomorrow with the title 'Meeting' and description 'Discuss project'\n",
      "assistant: Another new event titled 'Meeting' with the description 'Discuss project' has been successfully created for 9pm tomorrow. You can view or edit the event using the following [link](https://www.google.com/calendar/event?eid=ODE4bmF2ZzhodWgyNXBjdDZsOWRrcjFvZDggc3czNzA5QGNvbHVtYmlhLmVkdQ).\n",
      "user: help me get the id of my event for tomorrow 9pm and delete that event for me\n",
      "assistant: The ID of your event for tomorrow at 9pm is `818navg8huh25pct6l9dkr1od8`. I will now proceed to delete this event for you.\n",
      "assistant: The event scheduled for tomorrow at 9pm has been successfully deleted. You no longer have this event in your calendar.\n",
      "\n"
     ]
    }
   ],
   "source": [
    "# Retrieve all the messages added after our last user message\n",
    "messages = client.beta.threads.messages.list(\n",
    "    thread_id=thread.id, order=\"desc\", after=message.id\n",
    ")\n",
    "# messages.data[0].content[0].text.value\n",
    "pretty_print(get_response(thread))\n"
   ]
  },
  {
   "cell_type": "code",
   "execution_count": 184,
   "metadata": {},
   "outputs": [],
   "source": [
    "def deleteEvent(email, eventId):\n",
    "    url = \"http://localhost:3000/manage\"\n",
    "    headers = {'Content-Type': 'application/json'}\n",
    "\n",
    "    data = {\n",
    "        \"orgId\": \"1\",\n",
    "        \"email\": email,\n",
    "        \"type\": \"delete\",\n",
    "        \"eventId\": eventId\n",
    "    }\n",
    "\n",
    "    # Remove keys with None values\n",
    "    # data = {k: v for k, v in data.items() if v is not None}\n",
    "\n",
    "    response = requests.post(url, headers=headers, data=json.dumps(data))\n",
    "    return response.json()"
   ]
  },
  {
   "cell_type": "code",
   "execution_count": null,
   "metadata": {},
   "outputs": [],
   "source": [
    "trackEvent_json = {\n",
    "    \"name\": \"trackEvent\",\n",
    "    \"description\": \"Sends a tracking event to a specified endpoint and returns the server's response. The function makes a GET request to the specified URL with the provided data.\",\n",
    "    \"parameters\": {\n",
    "        \"type\": \"object\",\n",
    "        \"properties\": {\n",
    "            # \"orgId\": {\n",
    "            #     \"type\": \"string\",\n",
    "            #     \"description\": \"This is a system value and is always 1.\"\n",
    "            # },\n",
    "            \"email\": {\n",
    "                \"type\": \"string\",\n",
    "                \"description\": \"The email address associated with the event.\" # can be found in previous message\n",
    "            },\n",
    "            \"scope\": {\n",
    "                \"type\": \"integer\",\n",
    "                \"description\": \"An integer representing the scope of the event, between 0 and 30.\"\n",
    "            },\n",
    "            \"groupBy\": {\n",
    "                \"type\": \"string\",\n",
    "                \"enum\": [\"event\", \"eventType\", \"color\"],\n",
    "                \"description\": \"A string to specify how the tracking data should be grouped.\"\n",
    "            },\n",
    "            \"analysis\": {\n",
    "                \"type\": \"boolean\",\n",
    "                \"description\": \"A boolean flag to indicate whether analysis is required for the tracking event.\"\n",
    "            }\n",
    "        },\n",
    "        \"required\": [\"email\", \"scope\", \"analysis\"]\n",
    "    }\n",
    "    # \"returns\": {\n",
    "    #     \"type\": \"object\",\n",
    "    #     \"description\": \"The response from the server, typically in JSON format.\"\n",
    "    # }\n",
    "}\n"
   ]
  },
  {
   "cell_type": "code",
   "execution_count": null,
   "metadata": {},
   "outputs": [],
   "source": [
    "createEvent_json = {\n",
    "    \"name\": \"createEvent\",\n",
    "    \"description\": \"Creates an event by sending a POST request with event details to a specified endpoint.\",\n",
    "    \"parameters\": {\n",
    "        \"type\": \"object\",\n",
    "        \"properties\": {\n",
    "            # \"orgId\": {\n",
    "            #     \"type\": \"string\",\n",
    "            #     \"description\": \"This is a system value and is always 1.\"\n",
    "            # },\n",
    "            \"email\": {\n",
    "                \"type\": \"string\",\n",
    "                \"description\": \"Email address associated with the event creation.\"\n",
    "            },\n",
    "            # \"type\": {\n",
    "            #     \"type\": \"string\",\n",
    "            #     \"description\": \"Type of the event action, This value is always 'insert' for this function.\"\n",
    "            # },\n",
    "            \"startTime\": {\n",
    "                \"type\": \"string\",\n",
    "                \"description\": \"Start time of the event in ISO 8601 format.\"\n",
    "            },\n",
    "            \"endTime\": {\n",
    "                \"type\": \"string\",\n",
    "                \"description\": \"End time of the event in ISO 8601 format.\"\n",
    "            },\n",
    "            \"timezone\": {\n",
    "                \"type\": \"string\",\n",
    "                \"default\": \"America/New_York\",\n",
    "                \"description\": \"Timezone of the event. Default is 'America/New_York'.\"\n",
    "            },\n",
    "            \"summary\": {\n",
    "                \"type\": \"string\",\n",
    "                \"description\": \"A brief summary or title of the event.\"\n",
    "            },\n",
    "            \"description\": {\n",
    "                \"type\": \"string\",\n",
    "                \"description\": \"Detailed description of the event.\"\n",
    "            },\n",
    "            \"location\": {\n",
    "                \"type\": \"string\",\n",
    "                \"description\": \"Physical location or address of the event.\"\n",
    "            }\n",
    "        },\n",
    "        \"required\": [\"email\", \"startTime\", \"endTime\"]\n",
    "    }\n",
    "}\n"
   ]
  },
  {
   "cell_type": "code",
   "execution_count": null,
   "metadata": {},
   "outputs": [],
   "source": [
    "updateEvent_json = {\n",
    "    \"name\": \"updateEvent\",\n",
    "    \"description\": \"Updates an event by sending a POST request with event details to a specified endpoint.\",\n",
    "    \"parameters\": {\n",
    "        \"type\": \"object\",\n",
    "        \"properties\": {\n",
    "            \"email\": {\n",
    "                \"type\": \"string\",\n",
    "                \"description\": \"Email address associated with the event creation.\"\n",
    "            },\n",
    "            # \"type\": {\n",
    "            #     \"type\": \"string\",\n",
    "            #     \"description\": \"Type of the event action, This value is always 'update' for this function.\"\n",
    "            # },\n",
    "            \"startTime\": {\n",
    "                \"type\": \"string\",\n",
    "                \"description\": \"Start time of the event in ISO 8601 format.\"\n",
    "            },\n",
    "            \"endTime\": {\n",
    "                \"type\": \"string\",\n",
    "                \"description\": \"End time of the event in ISO 8601 format.\"\n",
    "            },\n",
    "            \"eventId\": {\n",
    "                \"type\": \"string\",\n",
    "                \"description\": \"ID of the event to be updated.\"\n",
    "            },\n",
    "            \"timezone\": {\n",
    "                \"type\": \"string\",\n",
    "                \"default\": \"America/New_York\",\n",
    "                \"description\": \"Timezone of the event. Default is 'America/New_York'.\"\n",
    "            },\n",
    "            \"summary\": {\n",
    "                \"type\": \"string\",\n",
    "                \"description\": \"A brief summary or title of the event.\"\n",
    "            },\n",
    "            \"description\": {\n",
    "                \"type\": \"string\",\n",
    "                \"description\": \"Detailed description of the event.\"\n",
    "            },\n",
    "            \"location\": {\n",
    "                \"type\": \"string\",\n",
    "                \"description\": \"Physical location or address of the event.\"\n",
    "            }\n",
    "        },\n",
    "        \"required\": [\"email\", \"eventId\"]\n",
    "    }\n",
    "}\n"
   ]
  },
  {
   "cell_type": "code",
   "execution_count": null,
   "metadata": {},
   "outputs": [],
   "source": [
    "deleteEvent_json = {\n",
    "    \"name\": \"deleteEvent\",\n",
    "    \"description\": \"Deletes an event by sending a POST request with event details to a specified endpoint.\",\n",
    "    \"parameters\": {\n",
    "        \"type\": \"object\",\n",
    "        \"properties\": {\n",
    "            \"email\": {\n",
    "                \"type\": \"string\",\n",
    "                \"description\": \"Email address associated with the event creation.\"\n",
    "            },\n",
    "            \"type\": {\n",
    "                \"type\": \"string\",\n",
    "                \"description\": \"Type of the event action, This value is always 'update' for this function.\"\n",
    "            },\n",
    "            \"eventId\": {\n",
    "                \"type\": \"string\",\n",
    "                \"description\": \"ID of the event to be updated.\"\n",
    "            },\n",
    "        },\n",
    "        \"required\": [\"email\", \"eventId\"]\n",
    "    }\n",
    "}\n"
   ]
  }
 ],
 "metadata": {
  "kernelspec": {
   "display_name": "calendar-assistant",
   "language": "python",
   "name": "python3"
  },
  "language_info": {
   "codemirror_mode": {
    "name": "ipython",
    "version": 3
   },
   "file_extension": ".py",
   "mimetype": "text/x-python",
   "name": "python",
   "nbconvert_exporter": "python",
   "pygments_lexer": "ipython3",
   "version": "3.11.5"
  }
 },
 "nbformat": 4,
 "nbformat_minor": 2
}
